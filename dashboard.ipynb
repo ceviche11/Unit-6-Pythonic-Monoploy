{
 "cells": [
  {
   "cell_type": "markdown",
   "metadata": {},
   "source": [
    "# San Francisco Rental Prices Dashboard\n",
    "\n",
    "In this notebook, you will compile the visualizations from the previous analysis into functions that can be used for a Panel dashboard."
   ]
  },
  {
   "cell_type": "code",
   "execution_count": 364,
   "metadata": {},
   "outputs": [],
   "source": [
    "# imports\n",
    "import panel as pn\n",
    "pn.extension('plotly')\n",
    "import plotly.express as px\n",
    "import pandas as pd\n",
    "import hvplot.pandas\n",
    "import matplotlib.pyplot as plt\n",
    "import os\n",
    "from pathlib import Path\n",
    "from dotenv import load_dotenv"
   ]
  },
  {
   "cell_type": "code",
   "execution_count": 365,
   "metadata": {},
   "outputs": [],
   "source": [
    "# Read the Mapbox API key\n",
    "load_dotenv()\n",
    "map_box_api = os.getenv(\"mapbox\")\n",
    "px.set_mapbox_access_token(map_box_api)"
   ]
  },
  {
   "cell_type": "markdown",
   "metadata": {},
   "source": [
    "# Import Data"
   ]
  },
  {
   "cell_type": "code",
   "execution_count": 366,
   "metadata": {},
   "outputs": [],
   "source": [
    "# Import the necessary CSVs to Pandas DataFrames\n",
    "# YOUR CODE HERE!\n",
    "\n",
    "neighborhood_coordinates = pd.read_csv('neighborhoods_coordinates.csv')\n",
    "\n",
    "sfo_neighborhoods_census = pd.read_csv('sfo_neighborhoods_census_data.csv')\n",
    "mean_housing_units = pd.read_csv('mean_housing_units_per_year.csv')\n",
    "file_path = Path(\"../sfo_neighborhoods_census_data.csv\")\n",
    "sfo_data = pd.read_csv(file_path, index_col=\"year\")\n",
    "\n",
    "\n",
    "\n",
    "\n",
    "\n",
    "\n",
    "\n",
    "\n",
    "\n",
    "\n",
    "\n"
   ]
  },
  {
   "cell_type": "markdown",
   "metadata": {},
   "source": [
    "- - -"
   ]
  },
  {
   "cell_type": "markdown",
   "metadata": {},
   "source": [
    "## Panel Visualizations\n",
    "\n",
    "In this section, you will copy the code for each plot type from your analysis notebook and place it into separate functions that Panel can use to create panes for the dashboard. \n",
    "\n",
    "These functions will convert the plot object to a Panel pane.\n",
    "\n",
    "Be sure to include any DataFrame transformation/manipulation code required along with the plotting code.\n",
    "\n",
    "Return a Panel pane object from each function that can be used to build the dashboard.\n",
    "\n",
    "Note: Remove any `.show()` lines from the code. We want to return the plots instead of showing them. The Panel dashboard will then display the plots."
   ]
  },
  {
   "cell_type": "code",
   "execution_count": 376,
   "metadata": {},
   "outputs": [],
   "source": [
    "# Define Panel Visualization Functions\n",
    "def housing_units_per_year():\n",
    "    \"\"\"Housing Units Per Year.\"\"\"\n",
    "    housing_units_grp = sfo_data.groupby('year')['housing_units'].mean()\n",
    "    housing_units_grp_plot = housing_units_grp.plot.bar(title='Housing Units in San Francisco from 2010 to 2016')\n",
    "    plt.ylim([370000,387500])\n",
    "    plt.ylabel('Housing Units')\n",
    "    return housing_units_grp_plot\n",
    "\n",
    "\n",
    "def average_gross_rent():\n",
    "    \"\"\"Average Gross Rent in San Francisco Per Year.\"\"\"\n",
    "    avg_housing_cost_grp = sfo_data.groupby('year').mean().drop(columns=['housing_units'])\n",
    "    average_gross_rent_plot = avg_housing_cost_grp.drop(columns=['sale_price_sqr_foot']).plot(title='Average Gross Rent by Year', color='purple')\n",
    "    plt.ylabel('Price per Sqft')\n",
    "    return average_gross_rent_plot \n",
    "\n",
    "\n",
    "\n",
    "def average_sales_price():\n",
    "    \"\"\"Average Sales Price Per Year.\"\"\"\n",
    "    avg_housing_cost_grp = sfo_data.groupby('year').mean().drop(columns=['housing_units'])   \n",
    "    avg_sales_price_plot = avg_housing_cost_grp.drop(columns=['gross_rent']).plot(title='Average Price per Sqft by Year', color='red')\n",
    "    plt.ylabel('Price per Sqft')\n",
    "    return avg_sales_price_plot \n",
    "    \n",
    "\n",
    "\n",
    "\n",
    "def average_price_by_neighborhood():\n",
    "    \"\"\"Average Prices by Neighborhood.\"\"\"\n",
    "    avg_prices_by_neighborhood = sfo_data.groupby(['year', 'neighborhood']).mean()\n",
    "    avg_prices_plot = avg_prices_by_neighborhood.hvplot(y='sale_price_sqr_foot', label='Average Sale Price per Sqft', groupby='neighborhood')\n",
    "    return avg_prices_plot\n",
    "\n",
    "\n",
    "\n",
    "def top_most_expensive_neighborhoods():\n",
    "    \"\"\"Top 10 Most Expensive Neighborhoods.\"\"\"\n",
    "    expensive_neighborhoods = sfo_data.reset_index().drop(columns=['year'])\n",
    "    expensive_neighborhoods = expensive_neighborhoods.groupby(['neighborhood']).mean()\n",
    "    expensive_neighborhoods = expensive_neighborhoods.sort_values(by='sale_price_sqr_foot', ascending=False)   \n",
    "    expensive_neighborhoods_bar = expensive_neighborhoods.hvplot.bar(y='sale_price_sqr_foot', label='10 Most Expensive Neighborhoods in SFO', rot=90)\n",
    "    return expensive_neighborhoods_bar \n",
    "\n",
    "\n",
    "def most_expensive_neighborhoods_rent_sales():\n",
    "    \"\"\"Comparison of Rent and Sales Prices of Most Expensive Neighborhoods.\"\"\"   \n",
    "    avg_prices_by_neighborhood = sfo_data.groupby(['year', 'neighborhood']).mean()\n",
    "    avg_price_bar = avg_prices_by_neighborhood.hvplot.bar(y=['sale_price_sqr_foot', 'gross_rent'], label='10 Most Expensive Neighborhoods', rot=90, groupby='neighborhood', ylabel='$', xlabel='Year')\n",
    "    return avg_price_bar\n",
    "\n",
    "    \n",
    "    \n",
    "def parallel_coordinates():\n",
    "    \"\"\"Parallel Coordinates Plot.\"\"\"\n",
    "\n",
    "    # YOUR CODE HERE!\n",
    "\n",
    "\n",
    "\n",
    "def parallel_categories():\n",
    "    \"\"\"Parallel Categories Plot.\"\"\"\n",
    "    \n",
    "    # YOUR CODE HERE!\n",
    "\n",
    "\n",
    "\n",
    "def neighborhood_map():\n",
    "    \"\"\"Neighborhood Map.\"\"\"\n",
    "    mean_neighborhood = sfo_data.groupby('neighborhood').mean()\n",
    "    mean_neighborhood.reset_index(drop=True, inplace=True)\n",
    "    neighborhood_data = pd.concat([neighborhood_coordinates, mean_neighborhood], axis=1)\n",
    "    neighborhood_map = px.scatter_mapbox(\n",
    "    neighborhood_data,\n",
    "    lat=\"Lat\",\n",
    "    lon=\"Lon\",\n",
    "    size=\"gross_rent\",\n",
    "    color=\"Neighborhood\",\n",
    "    zoom=4\n",
    ")\n",
    "    return pn.pane.Plotly(neighborhood_map) \n",
    "\n",
    "    # YOUR CODE HERE!\n",
    "\n",
    "\n",
    "def sunburst():\n",
    "    \"\"\"Sunburst Plot.\"\"\"\n",
    "    \n",
    "    # YOUR CODE HERE!\n"
   ]
  },
  {
   "cell_type": "code",
   "execution_count": null,
   "metadata": {},
   "outputs": [],
   "source": []
  },
  {
   "cell_type": "markdown",
   "metadata": {},
   "source": [
    "## Panel Dashboard\n",
    "\n",
    "In this section, you will combine all of the plots into a single dashboard view using Panel. Be creative with your dashboard design!"
   ]
  },
  {
   "cell_type": "code",
   "execution_count": 379,
   "metadata": {},
   "outputs": [
    {
     "data": {
      "image/png": "[encoded data removed]",
      "text/plain": [
       "<Figure size 432x288 with 1 Axes>"
      ]
     },
     "metadata": {
      "needs_background": "light"
     },
     "output_type": "display_data"
    },
    {
     "data": {
      "image/png": "[encoded data removed]",
      "text/plain": [
       "<Figure size 432x288 with 1 Axes>"
      ]
     },
     "metadata": {
      "needs_background": "light"
     },
     "output_type": "display_data"
    },
    {
     "data": {
      "image/png": "[encoded data removed]",
      "text/plain": [
       "<Figure size 432x288 with 1 Axes>"
      ]
     },
     "metadata": {
      "needs_background": "light"
     },
     "output_type": "display_data"
    }
   ],
   "source": [
    "# Create a Title for the Dashboard\n",
    "# YOUR CODE HERE!\n",
    "map_as_column = pn.Column(\n",
    "    \"# Real Estate Analysis of San Francisco from 2010 to 2016\", \n",
    "    \"## This is a visualization of real estate data in San Francisco by Year and Neighborhood. Enjoy this Map of the Neighborhoods in Question.\",\n",
    "    neighborhood_map\n",
    ")\n",
    "\n",
    "\n",
    "\n",
    "\n",
    "\n",
    "# Create a tab layout for the dashboard\n",
    "# YOUR CODE HERE!\n",
    "sfo_dashboard = pn.Tabs(\n",
    "    (\"Welcome\", map_as_column),\n",
    "    (\"Per Year Data\", formatted_row_data_per_year),\n",
    "    (\"Neighborhood Data\", neighborhood_data_sfo)\n",
    ")\n",
    "\n",
    "\n",
    "    #(\"Neighborhood Analysis\", row_of_parallel))\n",
    "\n",
    "# Create Dashboard \n",
    "# YOUR CODE HERE!\n",
    "row_data_per_year = pn.Row(housing_units_per_year())\n",
    "row_data_per_year.append(average_gross_rent())\n",
    "row_data_per_year.append(average_sales_price())\n",
    "\n",
    "formatted_row_data_per_year = pn.Column(\"# Real Estate Analysis of San Francisco by Year\", row_data_per_year,\n",
    "                                       )\n",
    "\n",
    "\n",
    "neighborhood_data_sfo = pn.Column(\"# Real Estate Analysis of San Francisco by Neighborhood\", average_price_by_neighborhood(),\n",
    "                                  top_most_expensive_neighborhoods(), most_expensive_neighborhoods_rent_sales())\n",
    "                                       \n",
    "\n",
    "\n"
   ]
  },
  {
   "cell_type": "code",
   "execution_count": null,
   "metadata": {},
   "outputs": [],
   "source": [
    "\n",
    "\n",
    "\n"
   ]
  },
  {
   "cell_type": "markdown",
   "metadata": {},
   "source": [
    "## Serve the Panel Dashboard"
   ]
  },
  {
   "cell_type": "code",
   "execution_count": 380,
   "metadata": {},
   "outputs": [
    {
     "name": "stdout",
     "output_type": "stream",
     "text": [
      "Launching server at http://localhost:64131\n"
     ]
    },
    {
     "data": {
      "text/plain": [
       "<bokeh.server.server.Server at 0x7ff459e6ec10>"
      ]
     },
     "execution_count": 380,
     "metadata": {},
     "output_type": "execute_result"
    }
   ],
   "source": [
    "# Serve the# dashboard\n",
    "# YOUR CODE HERE!\n",
    "sfo_dashboard.servable().show()"
   ]
  },
  {
   "cell_type": "markdown",
   "metadata": {},
   "source": [
    "# Debugging\n",
    "\n",
    "Note: Some of the Plotly express plots may not render in the notebook through the panel functions.\n",
    "\n",
    "However, you can test each plot by uncommenting the following code"
   ]
  },
  {
   "cell_type": "code",
   "execution_count": 320,
   "metadata": {},
   "outputs": [
    {
     "data": {
      "text/plain": [
       "<AxesSubplot:title={'center':'Housing Units in San Francisco from 2010 to 2016'}, xlabel='year', ylabel='Housing Units'>"
      ]
     },
     "execution_count": 320,
     "metadata": {},
     "output_type": "execute_result"
    },
    {
     "data": {
      "image/png": "[encoded data removed]",
      "text/plain": [
       "<Figure size 432x288 with 1 Axes>"
      ]
     },
     "metadata": {
      "needs_background": "light"
     },
     "output_type": "display_data"
    }
   ],
   "source": [
    "housing_units_per_year()"
   ]
  },
  {
   "cell_type": "code",
   "execution_count": 308,
   "metadata": {},
   "outputs": [],
   "source": [
    "# average_gross_rent()"
   ]
  },
  {
   "cell_type": "code",
   "execution_count": 216,
   "metadata": {},
   "outputs": [],
   "source": [
    "# average_sales_price()"
   ]
  },
  {
   "cell_type": "code",
   "execution_count": 127,
   "metadata": {},
   "outputs": [],
   "source": [
    "# average_price_by_neighborhood()"
   ]
  },
  {
   "cell_type": "code",
   "execution_count": 128,
   "metadata": {},
   "outputs": [],
   "source": [
    "# top_most_expensive_neighborhoods()"
   ]
  },
  {
   "cell_type": "code",
   "execution_count": 129,
   "metadata": {},
   "outputs": [],
   "source": [
    "# most_expensive_neighborhoods_rent_sales()"
   ]
  },
  {
   "cell_type": "code",
   "execution_count": 241,
   "metadata": {},
   "outputs": [
    {
     "name": "stdout",
     "output_type": "stream",
     "text": [
      "Launching server at http://localhost:62252\n"
     ]
    },
    {
     "data": {
      "text/plain": [
       "<bokeh.server.server.Server at 0x7ff4544c7e50>"
      ]
     },
     "execution_count": 241,
     "metadata": {},
     "output_type": "execute_result"
    }
   ],
   "source": [
    "neighborhood_map().show()"
   ]
  },
  {
   "cell_type": "code",
   "execution_count": 131,
   "metadata": {},
   "outputs": [],
   "source": [
    "# parallel_categories()"
   ]
  },
  {
   "cell_type": "code",
   "execution_count": 132,
   "metadata": {},
   "outputs": [],
   "source": [
    "# parallel_coordinates()"
   ]
  },
  {
   "cell_type": "code",
   "execution_count": 133,
   "metadata": {},
   "outputs": [],
   "source": [
    "# sunburst()"
   ]
  },
  {
   "cell_type": "code",
   "execution_count": null,
   "metadata": {},
   "outputs": [],
   "source": []
  },
  {
   "cell_type": "code",
   "execution_count": null,
   "metadata": {},
   "outputs": [],
   "source": []
  },
  {
   "cell_type": "code",
   "execution_count": null,
   "metadata": {},
   "outputs": [],
   "source": []
  }
 ],
 "metadata": {
  "file_extension": ".py",
  "kernelspec": {
   "display_name": "Python 3 (ipykernel)",
   "language": "python",
   "name": "python3"
  },
  "language_info": {
   "codemirror_mode": {
    "name": "ipython",
    "version": 3
   },
   "file_extension": ".py",
   "mimetype": "text/x-python",
   "name": "python",
   "nbconvert_exporter": "python",
   "pygments_lexer": "ipython3",
   "version": "3.7.11"
  },
  "mimetype": "text/x-python",
  "name": "python",
  "npconvert_exporter": "python",
  "pygments_lexer": "ipython3",
  "version": 3
 },
 "nbformat": 4,
 "nbformat_minor": 4
}
